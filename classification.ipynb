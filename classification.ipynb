{
 "cells": [
  {
   "cell_type": "code",
   "execution_count": 1,
   "id": "d48a5449",
   "metadata": {},
   "outputs": [],
   "source": [
    "import pandas as pd\n",
    "import pickle\n",
    "\n",
    "from sklearn.naive_bayes import MultinomialNB\n",
    "from sklearn.feature_extraction.text import CountVectorizer, TfidfTransformer\n",
    "from sklearn.pipeline import Pipeline"
   ]
  },
  {
   "cell_type": "code",
   "execution_count": 2,
   "id": "ce2755ff",
   "metadata": {},
   "outputs": [],
   "source": [
    "# Reading dataset\n",
    "dataset_folder = '/home/cunha/covid19-sample'\n",
    "train = pd.read_csv(dataset_folder + '/training.csv', sep=';')\n",
    "test = pd.read_csv(dataset_folder + '/test.csv', sep=';')"
   ]
  },
  {
   "cell_type": "code",
   "execution_count": 3,
   "id": "75a0afa6",
   "metadata": {},
   "outputs": [],
   "source": [
    "# Selecting only 'text' and 'country_code' columns\n",
    "train_df = train[['text','country_code']].copy()\n",
    "test_df = test[['text','country_code']].copy()"
   ]
  },
  {
   "cell_type": "code",
   "execution_count": 4,
   "id": "667cf4b3",
   "metadata": {},
   "outputs": [],
   "source": [
    "# Tranforming the country_code into American (1) or not (0)\n",
    "train_df['country_code'] = (train_df['country_code'] == 'US').astype(int)\n",
    "test_df['country_code'] = (test_df['country_code'] == 'US').astype(int)"
   ]
  },
  {
   "cell_type": "code",
   "execution_count": 5,
   "id": "e1c39115",
   "metadata": {},
   "outputs": [],
   "source": [
    "# Separating the text from the country for the training\n",
    "X_train, y_train = train_df['text'], train_df['country_code']\n",
    "X_test, y_test = test_df['text'], test_df['country_code']"
   ]
  },
  {
   "cell_type": "code",
   "execution_count": 6,
   "id": "37956cd2",
   "metadata": {},
   "outputs": [],
   "source": [
    "# Building a model, following the tutorial at:\n",
    "# scikit-learn.org/stable/tutorial/text_analytics/working_with_text_data.html\n",
    "text_clf = Pipeline([\n",
    "    ('vect', CountVectorizer(stop_words='english')),\n",
    "    ('tfidf', TfidfTransformer()),\n",
    "    ('clf', MultinomialNB()),\n",
    "])"
   ]
  },
  {
   "cell_type": "code",
   "execution_count": 7,
   "id": "a66025d8",
   "metadata": {},
   "outputs": [
    {
     "data": {
      "text/plain": [
       "0.9613961396139614"
      ]
     },
     "execution_count": 7,
     "metadata": {},
     "output_type": "execute_result"
    }
   ],
   "source": [
    "# Training\n",
    "text_clf.fit(X_train,y_train)\n",
    "text_clf.score(X_train, y_train)"
   ]
  },
  {
   "cell_type": "code",
   "execution_count": 8,
   "id": "76e8b11f",
   "metadata": {},
   "outputs": [
    {
     "data": {
      "text/plain": [
       "0.7731591053035101"
      ]
     },
     "execution_count": 8,
     "metadata": {},
     "output_type": "execute_result"
    }
   ],
   "source": [
    "# Accuracy in the test set\n",
    "text_clf.score(X_test, y_test)"
   ]
  },
  {
   "cell_type": "code",
   "execution_count": 9,
   "id": "c19b79de",
   "metadata": {},
   "outputs": [],
   "source": [
    "# Saving the model\n",
    "filename = 'trained_model.sk'\n",
    "pickle.dump(text_clf, open(filename, 'wb'))"
   ]
  },
  {
   "cell_type": "code",
   "execution_count": 10,
   "id": "629f1eea",
   "metadata": {},
   "outputs": [],
   "source": [
    "# Note: to read it again just do\n",
    "# loaded_model = pickle.load(open(filename, 'rb'))\n",
    "# result = loaded_model.score(X_test, Y_test)"
   ]
  }
 ],
 "metadata": {
  "kernelspec": {
   "display_name": "Python 3 (ipykernel)",
   "language": "python",
   "name": "python3"
  },
  "language_info": {
   "codemirror_mode": {
    "name": "ipython",
    "version": 3
   },
   "file_extension": ".py",
   "mimetype": "text/x-python",
   "name": "python",
   "nbconvert_exporter": "python",
   "pygments_lexer": "ipython3",
   "version": "3.8.10"
  }
 },
 "nbformat": 4,
 "nbformat_minor": 5
}
