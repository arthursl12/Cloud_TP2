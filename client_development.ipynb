{
 "cells": [
  {
   "cell_type": "code",
   "execution_count": 40,
   "id": "5824c475",
   "metadata": {},
   "outputs": [],
   "source": [
    "import pandas as pd\n",
    "import requests\n",
    "\n",
    "def get_test_dataset_samples(n=1):\n",
    "    # Reading test dataset\n",
    "    dataset_folder = '/home/cunha/covid19-sample'\n",
    "    test = pd.read_csv(dataset_folder + '/test.csv', sep=';')\n",
    "\n",
    "    # Selecting only 'text' and 'country_code' columns\n",
    "    test_df = test[['text','country_code']].copy()\n",
    "\n",
    "    # Tranforming the country_code into American (1) or not (0)\n",
    "    test_df['country_code'] = (test_df['country_code'] == 'US').astype(int)\n",
    "\n",
    "    # Separating the text from the country for sending\n",
    "    X_test, y_test = test_df['text'], test_df['country_code']\n",
    "    \n",
    "    # Select n random samples\n",
    "    X_samples = X_test.sample(n)\n",
    "    y_true = y_test[X_samples.index]\n",
    "    \n",
    "    return X_samples, y_true"
   ]
  },
  {
   "cell_type": "code",
   "execution_count": 41,
   "id": "4f16698f",
   "metadata": {},
   "outputs": [],
   "source": [
    "n=3\n",
    "X_samples, y_true = get_test_dataset_samples(n)"
   ]
  },
  {
   "cell_type": "code",
   "execution_count": 42,
   "id": "8635b20d",
   "metadata": {},
   "outputs": [
    {
     "data": {
      "text/plain": [
       "10360    Here's how you can spend your leisure time thi...\n",
       "8516     #coronavirus Thought of the Day:  We order rou...\n",
       "17847    The shit you do when social distancing. #COVID...\n",
       "Name: text, dtype: object"
      ]
     },
     "execution_count": 42,
     "metadata": {},
     "output_type": "execute_result"
    }
   ],
   "source": [
    "X_samples"
   ]
  },
  {
   "cell_type": "code",
   "execution_count": 43,
   "id": "e1967221",
   "metadata": {},
   "outputs": [
    {
     "data": {
      "text/plain": [
       "10360    0\n",
       "8516     1\n",
       "17847    1\n",
       "Name: country_code, dtype: int64"
      ]
     },
     "execution_count": 43,
     "metadata": {},
     "output_type": "execute_result"
    }
   ],
   "source": [
    "y_true"
   ]
  },
  {
   "cell_type": "code",
   "execution_count": 45,
   "id": "4d03b275",
   "metadata": {},
   "outputs": [],
   "source": [
    "def call_api(X_samples, y_true, url='http://localhost:5002/api/american'):\n",
    "    # POST a JSON to the flask application for each sample\n",
    "    # and print the results\n",
    "    \n",
    "    for index, tweet_text in X_samples.items():\n",
    "        r = requests.post(url, json={\"text\": tweet_text})\n",
    "        result = r.json()['is_american']\n",
    "        date = r.json()['model_date']\n",
    "        version = r.json()['version']\n",
    "\n",
    "        print(f\"ID\\t{index}\\t: \" + \n",
    "              f\"true={y_true[index]}, \" + \n",
    "              f\"pred={result}, \" + \\\n",
    "              f\"version={version}, \" + \\\n",
    "              f\"last_updated={date}\")"
   ]
  },
  {
   "cell_type": "code",
   "execution_count": 46,
   "id": "9ab4347a",
   "metadata": {},
   "outputs": [
    {
     "name": "stdout",
     "output_type": "stream",
     "text": [
      "ID\t10360\t: true=0, pred=0, version=0.1, last_updated=2022-06-05T17:00:04\n",
      "ID\t8516\t: true=1, pred=1, version=0.1, last_updated=2022-06-05T17:00:04\n",
      "ID\t17847\t: true=1, pred=1, version=0.1, last_updated=2022-06-05T17:00:04\n"
     ]
    }
   ],
   "source": [
    "call_api(X_samples, y_true)"
   ]
  },
  {
   "cell_type": "code",
   "execution_count": null,
   "id": "47136ab0",
   "metadata": {},
   "outputs": [],
   "source": []
  }
 ],
 "metadata": {
  "kernelspec": {
   "display_name": "Python 3 (ipykernel)",
   "language": "python",
   "name": "python3"
  },
  "language_info": {
   "codemirror_mode": {
    "name": "ipython",
    "version": 3
   },
   "file_extension": ".py",
   "mimetype": "text/x-python",
   "name": "python",
   "nbconvert_exporter": "python",
   "pygments_lexer": "ipython3",
   "version": "3.8.10"
  }
 },
 "nbformat": 4,
 "nbformat_minor": 5
}
